{
 "cells": [
  {
   "cell_type": "code",
   "execution_count": 1,
   "metadata": {},
   "outputs": [],
   "source": [
    "import h5py\n",
    "import matplotlib.pyplot as plt\n",
    "%matplotlib inline\n",
    "import numpy as np\n",
    "from matplotlib.patches import Rectangle"
   ]
  },
  {
   "cell_type": "code",
   "execution_count": 2,
   "metadata": {},
   "outputs": [],
   "source": [
    "fits_path = 'indy_20160411_01.h5'"
   ]
  },
  {
   "cell_type": "code",
   "execution_count": 34,
   "metadata": {},
   "outputs": [
    {
     "data": {
      "image/png": "[encoded data removed]",
      "text/plain": [
       "<Figure size 504x216 with 3 Axes>"
      ]
     },
     "metadata": {},
     "output_type": "display_data"
    }
   ],
   "source": [
    "fig = plt.figure(figsize=(7, 3))\n",
    "\n",
    "fits = h5py.File(fits_path, 'r')\n",
    "\n",
    "# load different fits\n",
    "lasso = fits['Lasso']\n",
    "uoi = fits['UoI_Lasso_AIC']\n",
    "\n",
    "n_targets = lasso['coupling_coefs'].shape[-1]\n",
    "\n",
    "sr = fig.add_axes([0, 0, 0.20, 1])\n",
    "r2 = fig.add_axes([0.27, 0, 0.20, 1])\n",
    "bic = fig.add_axes([0.58, 0.2655, 0.4, 0.468])\n",
    "\n",
    "# first plot: selection ratios #\n",
    "\n",
    "# calculate selection ratios\n",
    "lasso_selection_ratio = np.mean(\n",
    "    np.count_nonzero(lasso['coupling_coefs'][:], axis=2\n",
    ")/n_targets, axis=0)\n",
    "uoi_selection_ratio = np.mean(\n",
    "    np.count_nonzero(uoi['coupling_coefs'][:], axis=2\n",
    ")/n_targets, axis=0)\n",
    "\n",
    "# plot selection ratios\n",
    "sr.scatter(\n",
    "    lasso_selection_ratio,\n",
    "    uoi_selection_ratio,\n",
    "    alpha=0.5,\n",
    "    color='k',\n",
    "    edgecolor='w'\n",
    ")\n",
    "# identity line\n",
    "sr.plot([0, 1], [0, 1], color='gray', linewidth=3, zorder=-1)\n",
    "\n",
    "# axis ticks and limits\n",
    "sr.set_xlim([0, 1])\n",
    "sr.set_xticks([0, 1])\n",
    "sr.set_ylim([0, 1])\n",
    "sr.set_yticks([0, 1])\n",
    "sr.set_aspect('equal')\n",
    "\n",
    "# labels \n",
    "sr.set_xlabel(r'Lasso', fontsize=20, labelpad=-10)\n",
    "sr.set_ylabel(r'UoI$_{\\text{Lasso}}$', fontsize=20, labelpad=-12)\n",
    "sr.set_title(r'\\textbf{Selection}' '\\n' r'\\textbf{Ratio}', fontsize=19)\n",
    "\n",
    "\n",
    "# second plot: explained variance #\n",
    "\n",
    "# plot scatter points\n",
    "r2.scatter(\n",
    "    np.mean(lasso['r2'][:], axis=0),\n",
    "    np.mean(uoi['r2'][:], axis=0),\n",
    "    alpha=0.5,\n",
    "    color='k',\n",
    "    edgecolor='w'\n",
    ")\n",
    "# identity line\n",
    "r2.plot([0, 1], [0, 1], color='gray', linewidth=3, zorder=-1)\n",
    "\n",
    "# axis ticks and limits\n",
    "r2.set_xlim([0, 1])\n",
    "r2.set_xticks([0, 1])\n",
    "r2.set_ylim([0, 1])\n",
    "r2.set_yticks([0, 1])\n",
    "r2.set_aspect('equal')\n",
    "\n",
    "# labels\n",
    "r2.set_xlabel(r'Lasso', fontsize=20, labelpad=-10)\n",
    "r2.set_ylabel(r'UoI$_{\\text{Lasso}}$', fontsize=20, labelpad=-12)\n",
    "r2.set_title(r'\\textbf{Explained}' '\\n' r'\\textbf{Variance}', fontsize=19)\n",
    "\n",
    "# third plot: Bayesian information criterion #\n",
    "\n",
    "# calculate difference in BIC\n",
    "del_bic = np.mean(lasso['BIC'][:] - uoi['BIC'][:], axis=0)\n",
    "\n",
    "# extract BIC differences that are greater than zero\n",
    "n_zeros_del_bic = np.count_nonzero(del_bic == 0)\n",
    "del_bic = del_bic[del_bic != 0]\n",
    "# plot histogram of non-zero BIC elements\n",
    "_, _, patches = bic.hist(\n",
    "    del_bic,\n",
    "    bins=np.logspace(0, np.log10(450), num=25),\n",
    "    color='gray'\n",
    ")\n",
    "bic.set_xscale('log')\n",
    "bic.set_ylim([0, 50])\n",
    "# tack on the zero BIC elements\n",
    "r = Rectangle(\n",
    "    xy=(0, 0),\n",
    "    height=n_zeros_del_bic,\n",
    "    width=0.8,\n",
    "    fill=True,\n",
    "    color='gray'\n",
    ")\n",
    "bic.add_patch(r)\n",
    " \n",
    "# labels\n",
    "bic.set_xlabel(r'$\\Delta$BIC', fontsize=20)\n",
    "bic.set_ylabel(r'Frequency', fontsize=20)\n",
    "bic.set_title(r'\\textbf{Model Parsimony}', fontsize=19, pad=18)\n",
    "\n",
    "plt.savefig('Fig6_no_labels.eps', bbox_inches='tight')"
   ]
  },
  {
   "cell_type": "code",
   "execution_count": 35,
   "metadata": {},
   "outputs": [
    {
     "data": {
      "text/plain": [
       "1.8900000000000001"
      ]
     },
     "execution_count": 35,
     "metadata": {},
     "output_type": "execute_result"
    }
   ],
   "source": [
    "7*0.27"
   ]
  },
  {
   "cell_type": "code",
   "execution_count": null,
   "metadata": {},
   "outputs": [],
   "source": []
  }
 ],
 "metadata": {
  "kernelspec": {
   "display_name": "Python [conda env:anaconda3]",
   "language": "python",
   "name": "conda-env-anaconda3-py"
  },
  "language_info": {
   "codemirror_mode": {
    "name": "ipython",
    "version": 3
   },
   "file_extension": ".py",
   "mimetype": "text/x-python",
   "name": "python",
   "nbconvert_exporter": "python",
   "pygments_lexer": "ipython3",
   "version": "3.6.5"
  },
  "varInspector": {
   "cols": {
    "lenName": 16,
    "lenType": 16,
    "lenVar": 40
   },
   "kernels_config": {
    "python": {
     "delete_cmd_postfix": "",
     "delete_cmd_prefix": "del ",
     "library": "var_list.py",
     "varRefreshCmd": "print(var_dic_list())"
    },
    "r": {
     "delete_cmd_postfix": ") ",
     "delete_cmd_prefix": "rm(",
     "library": "var_list.r",
     "varRefreshCmd": "cat(var_dic_list()) "
    }
   },
   "types_to_exclude": [
    "module",
    "function",
    "builtin_function_or_method",
    "instance",
    "_Feature"
   ],
   "window_display": false
  }
 },
 "nbformat": 4,
 "nbformat_minor": 2
}
